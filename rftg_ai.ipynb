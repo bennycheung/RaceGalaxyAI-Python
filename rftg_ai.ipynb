{
 "cells": [
  {
   "cell_type": "markdown",
   "metadata": {},
   "source": [
    "# Race for the Galaxy AI\n",
    "* Ref: [Game Architecture for Card Game AI (Part 3)](http://bennycheung.github.io/game-architecture-card-ai-3)\n",
    "\n",
    "## Installation\n",
    "The following Python modules are required to run this notebook.\n",
    "\n",
    "```\n",
    "pip install keras==2.4.3\n",
    "pip install tensorflow==2.5.0\n",
    "pip install pydot\n",
    "```\n",
    "\n",
    "In addition, we need to define the `.keras/keras.json` to use the tensorflow backend.\n",
    "\n",
    "```json\n",
    " {\n",
    "  \"image_data_format\": \"channels_last\",\n",
    "  \"epsilon\": 1e-07,\n",
    "  \"floatx\": \"float32\",\n",
    "  \"backend\": \"tensorflow\"\n",
    "}\n",
    "```\n",
    "\n",
    "## <a name=\"GameState\"></a> Game State\n",
    "The game state can represent any information available to the decision-maker, that is useful to describe the current situation of the game.  This could be the type of cards a player holds, the number of cards the opponent holds, or information regarding cards that have already been played. Without a doubt, RFTG is a complex card game, due to its elaborate set of rules and phases of action.\n",
    "\n",
    "By reading the list of input node names, we can understand the game states are fed into the network. The game state can be,\n",
    "\n",
    "* Game over\n",
    "* VP Pool size\n",
    "* Max active cards\n",
    "* Type of cards at hand\n",
    "* The number of cards at hand\n",
    "* Player number of goods\n",
    "* Opponent number of goods\n",
    "* etc.\n",
    "\n",
    "The list can go from *700s* for a game of 2 players up to *1,800s* for a game of 5 players (using expansion=6).\n",
    "\n",
    "## <a name=\"NeuralNetwork\"></a> Neural Networks\n",
    "These inputs don’t just feed into one neural network. According to Keldon's code, he got twelve unique models of neural networks each trained for a different set of expansions and player count. If we're running a two-player game, the AI is on a different network than a three-player game. For each game model, there are two flavours of neural networks at work, each with its main function.\n",
    "\n",
    "For example,\n",
    "* Eval Network - file for `eval` weights for expansion 0 (base game) 2 (players) `rftg.eval.0.2.net`\n",
    "* Role Network - file for `role` weights for expansion 0 (base game) 2 (players) `rftg.role.0.2.net`\n",
    "\n",
    "Both network weights file format are the same; the contents are varying with,\n",
    "* Input size, hidden layer size, output layer size\n",
    "  * For example `rftg.eval.0.2.net` : (704, 50, 2)\n",
    "  * For example `rftg.role.0.2.net` : (605, 50, 7)\n",
    "* Number of training iterations\n",
    "* The list of input node names\n",
    "* The weights for each layer nodes"
   ]
  },
  {
   "cell_type": "code",
   "execution_count": 1,
   "metadata": {},
   "outputs": [],
   "source": [
    "import numpy as np\n",
    "\n",
    "# RFTG Network Loader\n",
    "class Network:\n",
    "\n",
    "\tdef __init__(self):\n",
    "\t\tpass\n",
    "\n",
    "\tdef network_name(self, network, expansion, players, advanced=False):\n",
    "\t\tnetwork_name = \"rftg.%s.%d.%d%s.net\" %(network, expansion, players, (\"a\" if advanced else \"\"))\n",
    "\t\treturn network_name\n",
    "\n",
    "\tdef load_net(self, network, expansion, players, advanced=False):\n",
    "\t\tself.network = network\n",
    "\t\tself.expansion = expansion\n",
    "\t\tself.players = players\n",
    "\t\tself.advanced = advanced\n",
    "\t\tself.network_name = self.network_name(network, expansion, players, advanced)\n",
    "\n",
    "\t\tfilename = 'network/{}'.format(self.network_name)\n",
    "\t\tfp = open(filename)\n",
    "\t\t# read network layers size\n",
    "\t\t(input, hidden, output) = fp.readline().strip().split(' ')\n",
    "\t\tprint(input, hidden, output)\n",
    "\t\t# read number of training iterations\n",
    "\t\ttraining = fp.readline().strip()\n",
    "\n",
    "\t\tself.num_input = int(input)\n",
    "\t\tself.num_hidden = int(hidden)\n",
    "\t\tself.num_output = int(output)\n",
    "\n",
    "\t\t# read input names\n",
    "\t\tself.input_names = []\n",
    "\t\tfor i in range(0, self.num_input):\n",
    "\t\t\tname = fp.readline().strip()\n",
    "\t\t\tself.input_names.append(name)\n",
    "\n",
    "\t\tself.input = np.zeros(shape=(self.num_input, 1))\n",
    "\t\tprint('Input Layer: ', self.input.shape)\n",
    "\n",
    "\t\t# read hidden nodes\n",
    "\t\tself.hidden = np.ndarray(shape=(self.num_input, self.num_hidden))\n",
    "\t\tfor r in range(0, self.num_hidden):\n",
    "\t\t\tfor c in range(0, self.num_input):\n",
    "\t\t\t\tself.hidden[c, r] = float(fp.readline().strip())\n",
    "\t\tprint('Hidden Layer: ', self.hidden.shape)\n",
    "\n",
    "\t\t# read output nodes\n",
    "\t\tself.output = np.ndarray(shape=(self.num_hidden, self.num_output))\n",
    "\t\tfor r in range(0, self.num_output):\n",
    "\t\t\tfor c in range(0, self.num_hidden):\n",
    "\t\t\t\tself.output[c, r] = float(fp.readline().strip())\n",
    "\t\tprint('Output Layer: ', self.output.shape)\n",
    "\n",
    "\t\t# all done\n",
    "\t\tfp.close()\n"
   ]
  },
  {
   "cell_type": "code",
   "execution_count": 2,
   "metadata": {},
   "outputs": [
    {
     "name": "stdout",
     "output_type": "stream",
     "text": [
      "605 50 7\n",
      "Input Layer:  (605, 1)\n",
      "Hidden Layer:  (605, 50)\n",
      "Output Layer:  (50, 7)\n"
     ]
    }
   ],
   "source": [
    "# reading `role` network of expansion 0 with 2 players, not advanced game\n",
    "network = Network()\n",
    "network.load_net('role', 0, 2)"
   ]
  },
  {
   "cell_type": "markdown",
   "metadata": {},
   "source": [
    "## Deep Neural Network using Keras\n",
    "\n",
    "We’re using Keras to redefine the RFTG neural network. Although it may feel overkill, this illustrate how to use the more powerful deep neural network toolkit such that we can potential extend the network ability. A Keras layer that will only accept as input 2D tensors where the first dimension is the network input size, e.g. 605 (axis 0, the batch dimension, is unspecified, and thus any value would be accepted). This layer will return a tensor where the first dimension has been transformed to be 50. Thus this layer can only be connected to a downstream layer that expects 50-dimensional vectors as its input.\n",
    "\n",
    "The second layer didn’t receive an input shape argument—instead, it automatically inferred its input shape as being the output shape of the layer that came before.\n",
    "\n",
    "The last layer uses a `softmax` activation. It means the network will output a probability distribution over the 7 different output classes—for every input sample, the network will produce a 7-dimensional output vector, where output[i] is the probability that the sample belongs to class i (i.e. role choice). The 7 scores will sum to 1.\n",
    "\n",
    "The summary can be created by calling the summary() function on the model that returns a string that in turn can be printed.\n"
   ]
  },
  {
   "cell_type": "code",
   "execution_count": 3,
   "metadata": {},
   "outputs": [
    {
     "name": "stdout",
     "output_type": "stream",
     "text": [
      "Model: \"rftg.role.0.2.net\"\n",
      "_________________________________________________________________\n",
      "Layer (type)                 Output Shape              Param #   \n",
      "=================================================================\n",
      "hidden (Dense)               (None, 50)                30300     \n",
      "_________________________________________________________________\n",
      "output (Dense)               (None, 7)                 357       \n",
      "=================================================================\n",
      "Total params: 30,657\n",
      "Trainable params: 30,657\n",
      "Non-trainable params: 0\n",
      "_________________________________________________________________\n"
     ]
    }
   ],
   "source": [
    "from keras import models\n",
    "from keras import layers\n",
    "\n",
    "model = models.Sequential(name=network.network_name)\n",
    "# input layer\n",
    "# implicit in the input_shape data\n",
    "# hidden layer\n",
    "model.add(layers.Dense(50, activation='relu', input_shape=(network.num_input,), name='hidden'))\n",
    "# output layer\n",
    "model.add(layers.Dense(7, activation='softmax', name='output') )\n",
    "\n",
    "# model summary can be printed.\n",
    "model.summary()"
   ]
  },
  {
   "cell_type": "markdown",
   "metadata": {},
   "source": [
    "### Visualize Model\n",
    "The summary is useful for simple models, but can be confusing for models that have multiple inputs or outputs. Keras also provides a function to create a plot of the network neural network graph that can make more complex models easier to understand.\n",
    "\n",
    "The plot_model() function in Keras will create a plot of your network. "
   ]
  },
  {
   "cell_type": "code",
   "execution_count": 4,
   "metadata": {},
   "outputs": [
    {
     "data": {
      "image/png": "[encoded data removed]",
      "text/plain": "<IPython.core.display.Image object>"
     },
     "execution_count": 4,
     "metadata": {},
     "output_type": "execute_result"
    }
   ],
   "source": [
    "from keras.utils.vis_utils import plot_model\n",
    "\n",
    "plot_filename='{}.png'.format(network.network_name)\n",
    "plot_model(model, to_file=plot_filename, show_shapes=True, show_layer_names=True)"
   ]
  },
  {
   "cell_type": "code",
   "execution_count": 5,
   "metadata": {},
   "outputs": [
    {
     "name": "stdout",
     "output_type": "stream",
     "text": [
      "Hidden Layer: (None, 605) (None, 50)\n",
      "Output Layer: (None, 50) (None, 7)\n"
     ]
    }
   ],
   "source": [
    "hidden_layer = model.get_layer('hidden')\n",
    "output_layer = model.get_layer('output')\n",
    "print('Hidden Layer:', hidden_layer.input_shape, hidden_layer.output_shape)\n",
    "print('Output Layer:', output_layer.input_shape, output_layer.output_shape)"
   ]
  },
  {
   "cell_type": "markdown",
   "metadata": {},
   "source": [
    "### Loading Network Weights into Layers\n",
    "We have load the RFTG `role` network weights. After defining the Keras deep neural network, we can assign the weights into the corresponding layers\n",
    "* network.hidden -> hidden_layer\n",
    "* network.output -> output_layer\n"
   ]
  },
  {
   "cell_type": "code",
   "execution_count": 6,
   "metadata": {},
   "outputs": [],
   "source": [
    "hidden_layer.set_weights([network.hidden, np.zeros(shape=hidden_layer.output_shape[1])])\n",
    "output_layer.set_weights([network.output, np.zeros(shape=output_layer.output_shape[1])])"
   ]
  },
  {
   "cell_type": "code",
   "execution_count": 7,
   "metadata": {},
   "outputs": [
    {
     "data": {
      "text/plain": "[array([[ 0.02684849, -0.07043163,  0.17830057, ...,  0.08084569,\n         -0.09834311,  0.3189879 ],\n        [ 0.03219581,  0.06759464, -0.08408735, ...,  0.08180485,\n          0.12012478,  0.03991435],\n        [-0.07090639, -0.01249493,  0.05813789, ...,  0.04127461,\n          0.0998257 , -0.01798295],\n        ...,\n        [-0.8491952 , -0.30811298, -0.12133851, ...,  0.01339607,\n         -0.10589286,  0.00837689],\n        [ 1.2423377 , -0.0644151 ,  0.24686392, ...,  0.06034593,\n          0.04830525,  0.00200542],\n        [-0.5312858 ,  0.17594491,  0.3015494 , ..., -0.10620899,\n         -0.03211459, -0.07428143]], dtype=float32),\n array([0., 0., 0., 0., 0., 0., 0., 0., 0., 0., 0., 0., 0., 0., 0., 0., 0.,\n        0., 0., 0., 0., 0., 0., 0., 0., 0., 0., 0., 0., 0., 0., 0., 0., 0.,\n        0., 0., 0., 0., 0., 0., 0., 0., 0., 0., 0., 0., 0., 0., 0., 0.],\n       dtype=float32)]"
     },
     "execution_count": 7,
     "metadata": {},
     "output_type": "execute_result"
    }
   ],
   "source": [
    "hidden_layer.get_weights()"
   ]
  },
  {
   "cell_type": "markdown",
   "metadata": {},
   "source": [
    "### Using Neural Network for Predictions (Scores)\n",
    "\n",
    "After the network weights are loaded, we can verify that the `predict` method of the model instance returns a probability distribution over all 7 topics.\n",
    "\n",
    "Let’s generate a random set of game state as the test input data."
   ]
  },
  {
   "cell_type": "code",
   "execution_count": 15,
   "metadata": {},
   "outputs": [
    {
     "data": {
      "text/plain": "array([[0, 1, 1, 1, 0, 1, 0, 0, 1, 1, 0, 0, 1, 0, 0, 1, 0, 1, 0, 0, 0, 0,\n        0, 0, 1, 0, 0, 0, 1, 1, 1, 1, 1, 1, 0, 0, 1, 1, 0, 1, 0, 0, 0, 0,\n        0, 1, 1, 1, 0, 0, 1, 0, 0, 1, 0, 0, 1, 0, 1, 0, 0, 0, 0, 1, 1, 0,\n        1, 0, 1, 1, 1, 1, 1, 1, 0, 0, 0, 0, 0, 1, 1, 0, 1, 1, 1, 0, 1, 0,\n        0, 0, 0, 0, 0, 0, 1, 0, 0, 1, 1, 1, 1, 0, 1, 1, 0, 1, 0, 0, 1, 0,\n        1, 1, 0, 1, 1, 0, 1, 0, 1, 0, 0, 1, 1, 1, 0, 1, 0, 0, 1, 1, 1, 0,\n        1, 1, 0, 1, 0, 0, 0, 0, 1, 0, 1, 0, 1, 0, 0, 1, 1, 0, 0, 1, 0, 1,\n        0, 1, 0, 0, 0, 0, 0, 0, 0, 0, 1, 0, 1, 1, 0, 1, 0, 1, 0, 0, 1, 0,\n        0, 0, 0, 0, 1, 1, 0, 0, 1, 0, 1, 0, 0, 0, 1, 0, 0, 1, 1, 1, 1, 0,\n        1, 1, 1, 1, 1, 0, 1, 1, 1, 1, 0, 0, 1, 1, 1, 0, 0, 1, 1, 0, 1, 1,\n        0, 0, 0, 1, 0, 0, 1, 1, 1, 0, 1, 0, 1, 1, 0, 1, 1, 1, 0, 1, 0, 1,\n        1, 0, 1, 0, 0, 0, 1, 1, 1, 0, 0, 0, 0, 0, 1, 1, 1, 0, 1, 0, 1, 1,\n        1, 1, 0, 1, 0, 0, 0, 1, 0, 1, 0, 1, 0, 0, 1, 0, 0, 0, 1, 1, 1, 0,\n        0, 1, 0, 0, 0, 0, 1, 1, 0, 0, 1, 1, 0, 0, 0, 1, 1, 0, 1, 1, 0, 1,\n        0, 1, 0, 1, 0, 1, 0, 1, 1, 0, 0, 1, 1, 0, 0, 0, 1, 1, 0, 1, 0, 1,\n        0, 0, 0, 1, 0, 0, 1, 1, 1, 1, 1, 1, 1, 1, 1, 1, 1, 1, 1, 1, 1, 0,\n        0, 0, 1, 0, 0, 0, 1, 1, 1, 1, 0, 1, 1, 0, 1, 1, 0, 1, 1, 0, 1, 1,\n        0, 0, 0, 1, 1, 1, 0, 1, 1, 0, 1, 1, 1, 0, 1, 0, 1, 0, 1, 0, 1, 1,\n        0, 0, 0, 1, 1, 0, 0, 1, 1, 0, 0, 0, 0, 1, 0, 1, 1, 0, 0, 1, 0, 0,\n        0, 1, 0, 1, 1, 1, 0, 0, 0, 0, 1, 0, 0, 0, 0, 1, 1, 1, 0, 0, 0, 0,\n        0, 0, 1, 1, 1, 0, 1, 0, 1, 0, 1, 0, 0, 1, 0, 0, 0, 1, 0, 1, 0, 1,\n        0, 0, 0, 0, 0, 0, 1, 1, 0, 0, 0, 1, 0, 1, 0, 0, 0, 0, 1, 0, 1, 0,\n        1, 0, 0, 0, 0, 1, 0, 0, 1, 1, 0, 0, 1, 1, 1, 1, 0, 1, 0, 0, 0, 0,\n        1, 0, 0, 1, 0, 0, 1, 0, 1, 0, 1, 0, 0, 0, 0, 0, 0, 0, 1, 0, 1, 1,\n        1, 0, 0, 0, 1, 0, 1, 0, 1, 1, 0, 0, 1, 0, 0, 0, 0, 0, 0, 1, 0, 1,\n        0, 1, 0, 1, 1, 0, 1, 1, 1, 1, 0, 1, 1, 0, 1, 0, 0, 0, 1, 0, 1, 1,\n        0, 0, 0, 0, 1, 0, 0, 0, 0, 0, 1, 1, 0, 0, 1, 1, 1, 0, 0, 1, 1, 0,\n        1, 0, 1, 0, 0, 1, 1, 0, 0, 0, 0]])"
     },
     "execution_count": 15,
     "metadata": {},
     "output_type": "execute_result"
    }
   ],
   "source": [
    "random_input = np.random.randint(2, size=hidden_layer.input_shape[1])\n",
    "x_input = np.array([random_input])\n",
    "x_input\n"
   ]
  },
  {
   "cell_type": "markdown",
   "metadata": {},
   "source": [
    "We actually don't know what this random game state vector meant. Mostly likely a random game state will make no sense. Just for interest, we can print the network input names to check. Those input names are loaded from the RFTG's network file.\n"
   ]
  },
  {
   "cell_type": "code",
   "execution_count": null,
   "metadata": {},
   "outputs": [],
   "source": [
    "# for i in range(0, len(random_input)):\n",
    "#  if random_input[i] == 1:\n",
    "#    print('{}'.format(network.input_names[i]))\n",
    " "
   ]
  },
  {
   "cell_type": "markdown",
   "metadata": {},
   "source": [
    "In this test, we actually don't know what does the set of game states meant. We are just interest to know the neural network will use the network weights to score the output predictions (aka. choices).\n"
   ]
  },
  {
   "cell_type": "code",
   "execution_count": 17,
   "metadata": {},
   "outputs": [
    {
     "data": {
      "text/plain": "array([[0., 1., 0., 0., 0., 0., 0.]], dtype=float32)"
     },
     "execution_count": 17,
     "metadata": {},
     "output_type": "execute_result"
    }
   ],
   "source": [
    "predictions = model.predict(x_input)\n",
    "predictions"
   ]
  },
  {
   "cell_type": "markdown",
   "metadata": {},
   "source": [
    "In this example, we can see the output shape is 7. The total probability should be summed to 1 and the maximum score is choice index 2 (which is 3)."
   ]
  },
  {
   "cell_type": "code",
   "execution_count": 10,
   "metadata": {},
   "outputs": [
    {
     "data": {
      "text/plain": "(7,)"
     },
     "execution_count": 10,
     "metadata": {},
     "output_type": "execute_result"
    }
   ],
   "source": [
    "predictions[0].shape"
   ]
  },
  {
   "cell_type": "code",
   "execution_count": 85,
   "metadata": {},
   "outputs": [
    {
     "data": {
      "text/plain": "1.0"
     },
     "execution_count": 85,
     "metadata": {},
     "output_type": "execute_result"
    }
   ],
   "source": [
    "np.sum(predictions[0])"
   ]
  },
  {
   "cell_type": "code",
   "execution_count": 86,
   "metadata": {},
   "outputs": [
    {
     "data": {
      "text/plain": "2"
     },
     "execution_count": 86,
     "metadata": {},
     "output_type": "execute_result"
    }
   ],
   "source": [
    "np.argmax(predictions[0])"
   ]
  },
  {
   "cell_type": "code",
   "execution_count": null,
   "metadata": {},
   "outputs": [],
   "source": []
  }
 ],
 "metadata": {
  "kernelspec": {
   "display_name": "Python 3.7.0 64-bit ('rftg': conda)",
   "name": "python370jvsc74a57bd0f55e564247e89279bde809b1aca99d409c232204d59d94dfc5b48e058d023866"
  },
  "language_info": {
   "codemirror_mode": {
    "name": "ipython",
    "version": 3
   },
   "file_extension": ".py",
   "mimetype": "text/x-python",
   "name": "python",
   "nbconvert_exporter": "python",
   "pygments_lexer": "ipython3",
   "version": "3.7.0"
  },
  "orig_nbformat": 2
 },
 "nbformat": 4,
 "nbformat_minor": 2
}